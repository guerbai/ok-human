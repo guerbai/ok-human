{
 "cells": [
  {
   "cell_type": "markdown",
   "metadata": {},
   "source": [
    "## load data"
   ]
  },
  {
   "cell_type": "code",
   "execution_count": 14,
   "metadata": {},
   "outputs": [
    {
     "name": "stdout",
     "output_type": "stream",
     "text": [
      "[[4 3 0 0 5 0]\n",
      " [5 0 4 0 4 0]\n",
      " [4 0 5 3 4 0]\n",
      " [0 3 0 0 0 5]\n",
      " [0 4 0 0 0 4]\n",
      " [0 0 2 4 0 5]]\n"
     ]
    }
   ],
   "source": [
    "import pandas as pd\n",
    "import numpy as np\n",
    "\n",
    "\n",
    "data_url = 'https://gist.githubusercontent.com/guerbai/3f4964350678c84d359e3536a08f6d3a/raw/f62f26d9ac24d434b1a0be3b5aec57c8a08e7741/user_book_ratings.txt'\n",
    "df = pd.read_csv(data_url, sep = ',', header = None, names = ['user_id', 'book_id', 'rating'])\n",
    "user_count = df['user_id'].unique().shape[0]\n",
    "item_count = df['book_id'].unique().shape[0]\n",
    "user_id_index_series = pd.Series(range(user_count), index=['user_001', 'user_002', 'user_003', 'user_004', 'user_005', 'user_006'])\n",
    "item_id_index_series = pd.Series(range(item_count), index=['book_001', 'book_002', 'book_003', 'book_004', 'book_005', 'book_006'])\n",
    "\n",
    "def construct_user_item_matrix(df):\n",
    "    user_item_matrix = np.zeros((user_count, item_count), dtype=np.int8)\n",
    "    for row in df.itertuples():\n",
    "        user_id = row[1]\n",
    "        book_id = row[2]\n",
    "        rating = row[3]\n",
    "        user_item_matrix[user_id_index_series[user_id], item_id_index_series[book_id]] = rating\n",
    "    return user_item_matrix\n",
    "\n",
    "user_item_matrix = construct_user_item_matrix(df)\n",
    "print (user_item_matrix)"
   ]
  },
  {
   "cell_type": "markdown",
   "metadata": {},
   "source": [
    "## differencial matrix"
   ]
  },
  {
   "cell_type": "code",
   "execution_count": 15,
   "metadata": {},
   "outputs": [
    {
     "name": "stdout",
     "output_type": "stream",
     "text": [
      "differential_matrix\n",
      "[[ 0.   1.   0.   1.   0.   0. ]\n",
      " [-1.   0.   0.   0.  -2.  -1. ]\n",
      " [-0.   0.   0.   0.   0.5 -3. ]\n",
      " [-1.   0.  -0.   0.  -1.  -1. ]\n",
      " [-0.   2.  -0.5  1.   0.   0. ]\n",
      " [ 0.   1.   3.   1.   0.   0. ]]\n",
      "-----\n",
      "weight_matrix\n",
      "[[ 0.  1.  2.  1.  3.  0.]\n",
      " [ 1.  0.  0.  0.  1.  2.]\n",
      " [ 2.  0.  0.  2.  2.  1.]\n",
      " [ 1.  0.  2.  0.  1.  1.]\n",
      " [ 3.  1.  2.  1.  0.  0.]\n",
      " [ 0.  2.  1.  1.  0.  0.]]\n"
     ]
    }
   ],
   "source": [
    "def compute_differential(ratings):\n",
    "    item_count = ratings.shape[1]\n",
    "    differential_matrix = np.zeros((item_count, item_count))\n",
    "    weight_matrix = np.zeros((item_count, item_count))\n",
    "    for i in range(item_count):\n",
    "        for j in range(i+1, item_count):\n",
    "            differential = 0\n",
    "            i_rating_user_indexes = ratings[:, i].nonzero()[0]\n",
    "            j_rating_user_indexes = ratings[:, j].nonzero()[0]\n",
    "            rating_i_j_user = set(i_rating_user_indexes).intersection(set(j_rating_user_indexes))\n",
    "            user_count = len(rating_i_j_user)\n",
    "            if user_count == 0:\n",
    "                continue\n",
    "            for user_index in rating_i_j_user:\n",
    "                differential += ratings[user_index][i] - ratings[user_index][j]\n",
    "            weight_matrix[i][j] = user_count\n",
    "            weight_matrix[j][i] = user_count\n",
    "            differential_matrix[i][j] = round(differential/user_count, 2)\n",
    "            differential_matrix[j][i] = -differential_matrix[i][j]\n",
    "    return differential_matrix, weight_matrix\n",
    "\n",
    "differential_matrix, weight_matrix = compute_differential(user_item_matrix)\n",
    "\n",
    "print ('differential_matrix')\n",
    "print (differential_matrix)\n",
    "print ('-----')\n",
    "print ('weight_matrix')\n",
    "print (weight_matrix)"
   ]
  },
  {
   "cell_type": "markdown",
   "metadata": {},
   "source": [
    "## predict score"
   ]
  },
  {
   "cell_type": "code",
   "execution_count": 16,
   "metadata": {},
   "outputs": [
    {
     "data": {
      "text/plain": [
       "3.75"
      ]
     },
     "execution_count": 16,
     "metadata": {},
     "output_type": "execute_result"
    }
   ],
   "source": [
    "def predict(ratings, differential_matrix, weight_matrix, user_index, item_index):\n",
    "    if ratings[user_index][item_index] != 0: return ratings[user_index][item_index]\n",
    "    fenzi = 0\n",
    "    fenmu = 0\n",
    "    for rated_item_index in ratings[user_index].nonzero()[0]:\n",
    "        fenzi += weight_matrix[item_index][rated_item_index] * \\\n",
    "            (differential_matrix[item_index][rated_item_index] + ratings[user_index][rated_item_index])\n",
    "        fenmu += weight_matrix[rated_item_index][item_index]\n",
    "    return round(fenzi/fenmu, 2)\n",
    "\n",
    "predict(user_item_matrix, differential_matrix, weight_matrix, 1, 3)"
   ]
  },
  {
   "cell_type": "markdown",
   "metadata": {},
   "source": [
    "## dynamic update matrix"
   ]
  },
  {
   "cell_type": "code",
   "execution_count": 17,
   "metadata": {},
   "outputs": [],
   "source": [
    "def update_matrices(user_index, item_index, rating):\n",
    "    rated_item_indexes = user_item_matrix[user_index].nonzero()[0]\n",
    "    user_item_matrix[user_index][item_index] = rating\n",
    "    for rated_item_index in rated_item_indexes:\n",
    "        old_weight = weight_matrix[rated_item_index][item_index]\n",
    "        weight_matrix[rated_item_index][item_index] += 1\n",
    "        weight_matrix[item_index][rated_item_index] += 1\n",
    "        differential_matrix[rated_item_index][item_index] = (differential_matrix[rated_item_index][item_index] \\\n",
    "            * old_weight + (user_item_matrix[user_index][rated_item_index] - rating)) / (old_weight + 1)\n",
    "        differential_matrix[item_index][rated_item_index] = (differential_matrix[item_index][rated_item_index] \\\n",
    "            * old_weight + (rating - user_item_matrix[user_index][rated_item_index])) / (old_weight + 1)"
   ]
  }
 ],
 "metadata": {
  "kernelspec": {
   "display_name": "Python 3",
   "language": "python",
   "name": "python3"
  },
  "language_info": {
   "codemirror_mode": {
    "name": "ipython",
    "version": 3
   },
   "file_extension": ".py",
   "mimetype": "text/x-python",
   "name": "python",
   "nbconvert_exporter": "python",
   "pygments_lexer": "ipython3",
   "version": "3.6.2"
  }
 },
 "nbformat": 4,
 "nbformat_minor": 2
}
