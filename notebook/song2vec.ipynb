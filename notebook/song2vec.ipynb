{
 "cells": [
  {
   "cell_type": "markdown",
   "metadata": {},
   "source": [
    "![](https://ws1.sinaimg.cn/large/0073xHwmgy1g0npxol8xfj312m0h00uo.jpg)"
   ]
  },
  {
   "cell_type": "markdown",
   "metadata": {},
   "source": [
    "## load data"
   ]
  },
  {
   "cell_type": "code",
   "execution_count": 1,
   "metadata": {},
   "outputs": [
    {
     "name": "stdout",
     "output_type": "stream",
     "text": [
      "<class 'pandas.core.frame.DataFrame'>\n",
      "Int64Index: 16936136 entries, 10 to 19098861\n",
      "Data columns (total 5 columns):\n",
      "user_id        object\n",
      "timestamp      object\n",
      "artist_name    object\n",
      "track_id       object\n",
      "track_name     object\n",
      "dtypes: object(5)\n",
      "memory usage: 775.3+ MB\n",
      "None\n"
     ]
    }
   ],
   "source": [
    "import arrow\n",
    "from tqdm import tqdm\n",
    "import pandas as pd\n",
    "import numpy as np\n",
    "from scipy.sparse import csr_matrix, diags\n",
    "\n",
    "\n",
    "file_path = '~/music-recommend/dataset/lastfm-dataset-1K/userid-timestamp-artid-artname-traid-traname.tsv'\n",
    "df = pd.read_csv(file_path, \n",
    "            sep = '\\t',\n",
    "            header = None,                   \n",
    "            names = ['user_id', 'timestamp', 'artist_id', 'artist_name', 'track_id', 'track_name'],\n",
    "            usecols = ['user_id', 'timestamp', 'track_id', 'artist_name', 'track_name'],\n",
    "           )\n",
    "df = df.dropna()\n",
    "print (df.info())"
   ]
  },
  {
   "cell_type": "markdown",
   "metadata": {},
   "source": [
    "## util data"
   ]
  },
  {
   "cell_type": "code",
   "execution_count": 2,
   "metadata": {},
   "outputs": [],
   "source": [
    "df['user_id'] = df['user_id'].astype('category')\n",
    "df['track_id'] = df['track_id'].astype('category')\n",
    "\n",
    "user_index_to_user_id_dict = df['user_id'].cat.categories # use it like a dict.\n",
    "user_id_to_user_index_dict = dict()\n",
    "for index, i in enumerate(df['user_id'].cat.categories):\n",
    "    user_id_to_user_index_dict[i] = index\n",
    "    \n",
    "track_index_to_track_id_dict = df['track_id'].cat.categories # use it like a dict.\n",
    "track_id_to_track_index_dict = dict()\n",
    "for index, i in enumerate(df['track_id'].cat.categories):\n",
    "    track_id_to_track_index_dict[i] = index\n",
    "    \n",
    "song_info_df = df[['artist_name', 'track_name', 'track_id']].drop_duplicates()"
   ]
  },
  {
   "cell_type": "markdown",
   "metadata": {},
   "source": [
    "## util func"
   ]
  },
  {
   "cell_type": "code",
   "execution_count": 3,
   "metadata": {},
   "outputs": [
    {
     "name": "stdout",
     "output_type": "stream",
     "text": [
      "wish you were here tracks:\n",
      "                                      track_id\n",
      "60969     feecff58-8ee2-4a7f-ac23-dc8ce7925286\n",
      "4401932   f479e316-56b4-4221-acd9-eed1a0711861\n",
      "17332322  2210ba38-79af-4881-97ae-4ce8f32322c3\n",
      "--------\n",
      "hotest one:\n",
      "feecff58-8ee2-4a7f-ac23-dc8ce7925286\n"
     ]
    }
   ],
   "source": [
    "def get_hot_track_id_by_artist_name_and_track_name(artist_name, track_name):\n",
    "    track = song_info_df[(song_info_df['artist_name'] == artist_name) & (song_info_df['track_name'] == track_name)]\n",
    "    max_listened = 0\n",
    "    hotest_row_index = 0\n",
    "    for i in range(track.shape[0]):\n",
    "        row = track.iloc[i]\n",
    "        track_id = row['track_id']\n",
    "        listened_count = df[df['track_id'] == track_id].shape[0]\n",
    "        if listened_count > max_listened:\n",
    "            max_listened = listened_count\n",
    "            hotest_row_index = i\n",
    "    return track.iloc[hotest_row_index]['track_id']\n",
    "\n",
    "print ('wish you were here tracks:')\n",
    "print (song_info_df[(song_info_df['artist_name'] == 'Pink Floyd') & (song_info_df['track_name'] == 'Wish You Were Here')][['track_id']])\n",
    "print ('--------')\n",
    "print ('hotest one:')\n",
    "print (get_hot_track_id_by_artist_name_and_track_name('Pink Floyd', 'Wish You Were Here'))"
   ]
  },
  {
   "cell_type": "markdown",
   "metadata": {},
   "source": [
    "## generate sentence file"
   ]
  },
  {
   "cell_type": "code",
   "execution_count": null,
   "metadata": {},
   "outputs": [],
   "source": [
    "def generate_sentence_file(df):\n",
    "    with open('sentences.txt', 'w') as sentences:\n",
    "        for user_index in tqdm(range(len(user_index_to_user_id_dict))):\n",
    "            user_id = user_index_to_user_id_dict[user_index]\n",
    "            user_df = df[df['user_id'] == user_id].sort_values('timestamp')\n",
    "            session = list()\n",
    "            last_time = None\n",
    "            for index, row in user_df.iterrows():\n",
    "                this_time = row['timestamp']\n",
    "                track_index = track_id_to_track_index_dict[row['track_id']]\n",
    "                if arrow.get(this_time).date() != arrow.get(last_time).date() and last_time != None:\n",
    "                    sentences.write(' '.join([str(_id) for _id in session]) + '\\n')\n",
    "                    session = list()\n",
    "                session.append(track_index)\n",
    "                last_time = this_time"
   ]
  },
  {
   "cell_type": "markdown",
   "metadata": {},
   "source": [
    "## generate sentence file using spark"
   ]
  },
  {
   "cell_type": "code",
   "execution_count": null,
   "metadata": {},
   "outputs": [],
   "source": [
    "import pyspark\n",
    "import arrow\n",
    "\n",
    "sc = pyspark.SparkContext(appName=\"generate-song-sentences\")\n",
    "lines = sc.textFile(file_path)\n",
    "lines = lines.map(lambda l: l.split(\"\\t\")) # split by \\t.\n",
    "lines = lines.filter(lambda l: len([item for item in l if not item]) == 0) # remove na lines\n",
    "lines = lines.map(lambda line: ((line[0], arrow.get(line[1]).date()), str(track_id_to_track_index_dict.get(line[4], '')))) # (user_id, date) is key，track_id is value.\n",
    "lines = lines.reduceByKey(lambda a, b: a + ' ' + b) # reduce，use track_id as sentence.\n",
    "lines = lines.map(lambda line: line[1]) # don't care key anymore.\n",
    "lines.repartition(1).saveAsTextFile(\"./spark-generated-song-sentences\") # write to one txt file."
   ]
  },
  {
   "cell_type": "markdown",
   "metadata": {},
   "source": [
    "![](https://ws1.sinaimg.cn/large/0073xHwmgy1g0o99odtizj311w0ee79v.jpg)"
   ]
  },
  {
   "cell_type": "markdown",
   "metadata": {},
   "source": [
    "## gensim train model"
   ]
  },
  {
   "cell_type": "code",
   "execution_count": null,
   "metadata": {},
   "outputs": [],
   "source": [
    "from smart_open import smart_open\n",
    "from gensim.models import Word2Vec\n",
    "import logging\n",
    "\n",
    "logging.basicConfig()\n",
    "logging.getLogger().setLevel(logging.INFO)\n",
    "\n",
    "class LastfmSentences(object):\n",
    "    \n",
    "    def __init__(self, file_location):\n",
    "        self.file_location = file_location\n",
    "    \n",
    "    def __iter__(self):\n",
    "        for line in smart_open(self.file_location, 'r'):\n",
    "            yield line.split()\n",
    "            \n",
    "\n",
    "lastfm_sentences = LastfmSentences('~/onedrive/sentences.txt')\n",
    "model = Word2Vec(lastfm_sentences, size=50, min_count=20, window=10, hs=0, negative=20, workers=4, sg=1, sample=1e-5)"
   ]
  },
  {
   "cell_type": "markdown",
   "metadata": {},
   "source": [
    "## song similarity"
   ]
  },
  {
   "cell_type": "code",
   "execution_count": 5,
   "metadata": {},
   "outputs": [
    {
     "name": "stdout",
     "output_type": "stream",
     "text": [
      "similarity between shine on part 1, 2: 0.942483\n",
      "similarity between shine on part 1, good times: 0.381922\n"
     ]
    }
   ],
   "source": [
    "shine_on_part_1 = str(track_id_to_track_index_dict[\n",
    "    get_hot_track_id_by_artist_name_and_track_name('Pink Floyd', 'Shine On You Crazy Diamond (Parts I-V)')])\n",
    "shine_on_part_2 = str(track_id_to_track_index_dict[\n",
    "    get_hot_track_id_by_artist_name_and_track_name('Pink Floyd', 'Shine On You Crazy Diamond (Parts Vi-Ix)')])\n",
    "good_times = str(track_id_to_track_index_dict[\n",
    "    get_hot_track_id_by_artist_name_and_track_name('Chic', 'Good Times')])\n",
    "\n",
    "print ('similarity between shine on part 1, 2:', model.wv.similarity(shine_on_part_1, shine_on_part_2))\n",
    "print ('similarity between shine on part 1, good times:', model.wv.similarity(shine_on_part_1, good_times))"
   ]
  },
  {
   "cell_type": "markdown",
   "metadata": {},
   "source": [
    "## recommend songs"
   ]
  },
  {
   "cell_type": "code",
   "execution_count": 6,
   "metadata": {},
   "outputs": [],
   "source": [
    "def recommend_with_playlist(playlist, topn=25):\n",
    "    if not isinstance(playlist, list):\n",
    "        playlist = [playlist]\n",
    "    playlist_indexes = [str(track_id_to_track_index_dict[track_id]) for track_id in playlist]\n",
    "    similar_song_indexes = model.wv.most_similar(positive=playlist_indexes, topn=topn)\n",
    "    return [track_index_to_track_id_dict[int(track[0])] for track in similar_song_indexes]\n",
    "\n",
    "def display_track_info(track_ids):\n",
    "    track_info = {\n",
    "        'track_name': [],\n",
    "        'artist_name': [],\n",
    "    }\n",
    "    for track_id in track_ids:\n",
    "        track = song_info_df[song_info_df['track_id'] == track_id].iloc[0]\n",
    "        track_info['track_name'].append(track['track_name'])\n",
    "        track_info['artist_name'].append(track['artist_name'])\n",
    "    print (pd.DataFrame(track_info))"
   ]
  },
  {
   "cell_type": "markdown",
   "metadata": {},
   "source": [
    "## post punk"
   ]
  },
  {
   "cell_type": "code",
   "execution_count": 7,
   "metadata": {},
   "outputs": [
    {
     "name": "stderr",
     "output_type": "stream",
     "text": [
      "INFO:gensim.models.keyedvectors:precomputing L2-norms of word weight vectors\n"
     ]
    },
    {
     "name": "stdout",
     "output_type": "stream",
     "text": [
      "                                           track_name          artist_name\n",
      "0   Singing Rule Britannia (While The Walls Close In)       The Chameleons\n",
      "1                                       Miss The Girl        The Creatures\n",
      "2                            Return Of The Roughnecks       The Chameleons\n",
      "3                                    Looking Inwardly       The Chameleons\n",
      "4                                        P.S. Goodbye       The Chameleons\n",
      "5                          Home Is Where The Heart Is       The Chameleons\n",
      "6                             Love Will Tear Us Apart         Boy Division\n",
      "7                                Intrigue In Tangiers       The Chameleons\n",
      "8                                   Pleasure And Pain       The Chameleons\n",
      "9                                        Paper Tigers       The Chameleons\n",
      "10                                           Faceless      A Certain Ratio\n",
      "11                                  True Faith (Live)            New Order\n",
      "12                                     Perfume Garden       The Chameleons\n",
      "13                                          Nostalgia       The Chameleons\n",
      "14                                          Seriocity       The Chameleons\n",
      "15                             All My Colours (Zimbo)  Echo & The Bunnymen\n",
      "16                                      I'Ll Remember       The Chameleons\n",
      "17                                       Chelsea Girl         Simple Minds\n",
      "18                                           Ripeness  Echo & The Bunnymen\n",
      "19                                           Jeopardy            The Sound\n"
     ]
    }
   ],
   "source": [
    "guerbai_playlist = [\n",
    "    ('Joy Division', 'Disorder'),\n",
    "    ('Echo & The Bunnymen', 'The Killing Moon'),\n",
    "    ('The Names', 'Discovery'),\n",
    "    ('The Cure', 'Lullaby'),\n",
    "    \n",
    "]\n",
    "\n",
    "display_track_info(recommend_with_playlist([\n",
    "    get_hot_track_id_by_artist_name_and_track_name(track[0], track[1]) \n",
    "    for track in guerbai_playlist], 20))"
   ]
  },
  {
   "cell_type": "markdown",
   "metadata": {},
   "source": [
    "## progressive rock"
   ]
  },
  {
   "cell_type": "code",
   "execution_count": 8,
   "metadata": {},
   "outputs": [
    {
     "name": "stdout",
     "output_type": "stream",
     "text": [
      "                   track_name             artist_name\n",
      "0                   Musicatto                  Kansas\n",
      "1          Living In The Past             Jethro Tull\n",
      "2         Brain Salad Surgery  Emerson, Lake & Palmer\n",
      "3           Farewell To Kings                    Rush\n",
      "4             Working All Day            Gentle Giant\n",
      "5                        Tank  Emerson, Lake & Palmer\n",
      "6           My Sunday Feeling             Jethro Tull\n",
      "7           The Thousand Days                      Iq\n",
      "8         Just Changing Hands                      Iq\n",
      "9                     Corners                      Iq\n",
      "10                  Came Down                      Iq\n",
      "11           Starship Trooper                     Yes\n",
      "12                Breathtaker                      Iq\n",
      "13                 Knife Edge  Emerson, Lake & Palmer\n",
      "14                     Bourée             Jethro Tull\n",
      "15              Leap Of Faith                      Iq\n",
      "16  With You There To Help Me             Jethro Tull\n",
      "17             Unsolid Ground                      Iq\n",
      "18                Sweet Dream             Jethro Tull\n",
      "19          New State Of Mind                     Yes\n",
      "20                      River            Gentle Giant\n",
      "21      The Advent Of Panurge            Gentle Giant\n",
      "22  Five Per Cent For Nothing                     Yes\n",
      "23          Thoughts, Part Ii           Spock'S Beard\n",
      "24      At The End Of The Day           Spock'S Beard\n"
     ]
    }
   ],
   "source": [
    "guerbai_playlist = [\n",
    "    ('Rush', '2112: Ii. The Temples Of Syrinx'),\n",
    "    ('Yes', 'Roundabout'),\n",
    "    ('Emerson, Lake & Palmer', 'Take A Pebble'),\n",
    "    ('Jethro Tull', 'Aqualung'),\n",
    "]\n",
    "\n",
    "display_track_info(recommend_with_playlist([\n",
    "    get_hot_track_id_by_artist_name_and_track_name(track[0], track[1]) \n",
    "    for track in guerbai_playlist]))"
   ]
  }
 ],
 "metadata": {
  "kernelspec": {
   "display_name": "Python 3",
   "language": "python",
   "name": "python3"
  },
  "language_info": {
   "codemirror_mode": {
    "name": "ipython",
    "version": 3
   },
   "file_extension": ".py",
   "mimetype": "text/x-python",
   "name": "python",
   "nbconvert_exporter": "python",
   "pygments_lexer": "ipython3",
   "version": "3.6.2"
  }
 },
 "nbformat": 4,
 "nbformat_minor": 2
}
