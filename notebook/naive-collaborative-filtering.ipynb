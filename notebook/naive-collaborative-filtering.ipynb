{
 "cells": [
  {
   "cell_type": "markdown",
   "metadata": {},
   "source": [
    "## load data"
   ]
  },
  {
   "cell_type": "code",
   "execution_count": 1,
   "metadata": {},
   "outputs": [
    {
     "name": "stdout",
     "output_type": "stream",
     "text": [
      "    user_id   book_id  rating\n",
      "0  user_001  book_001       4\n",
      "1  user_001  book_002       3\n",
      "2  user_001  book_005       5\n",
      "3  user_002  book_001       5\n",
      "4  user_002  book_003       4\n",
      "-----\n",
      "user_count:  6\n",
      "book_count:  6\n"
     ]
    }
   ],
   "source": [
    "import numpy as np\n",
    "import pandas as pd\n",
    "\n",
    "data_url = 'https://gist.githubusercontent.com/guerbai/3f4964350678c84d359e3536a08f6d3a/raw/f62f26d9ac24d434b1a0be3b5aec57c8a08e7741/user_book_ratings.txt'\n",
    "df = pd.read_csv(data_url, \n",
    "            sep = ',',\n",
    "            header = None,                   \n",
    "            names = ['user_id', 'book_id', 'rating'])\n",
    "\n",
    "print (df.head())\n",
    "print ('-----')\n",
    "user_count = df['user_id'].unique().shape[0]\n",
    "book_count = df['book_id'].unique().shape[0]\n",
    "print ('user_count: ', user_count)\n",
    "print ('book_count: ', book_count)"
   ]
  },
  {
   "cell_type": "markdown",
   "metadata": {},
   "source": [
    "## generate user_item_matrix"
   ]
  },
  {
   "cell_type": "code",
   "execution_count": 2,
   "metadata": {},
   "outputs": [
    {
     "name": "stdout",
     "output_type": "stream",
     "text": [
      "user_item_matrix looks like：\n",
      "-----\n",
      "[[4 3 0 0 5 0]\n",
      " [5 0 4 0 4 0]\n",
      " [4 0 5 3 4 0]\n",
      " [0 3 0 0 0 5]\n",
      " [0 4 0 0 0 4]\n",
      " [0 0 2 4 0 5]]\n"
     ]
    }
   ],
   "source": [
    "user_id_index_series = pd.Series(range(user_count), index=['user_001', 'user_002', 'user_003', 'user_004', 'user_005', 'user_006'])\n",
    "book_id_index_series = pd.Series(range(book_count), index=['book_001', 'book_002', 'book_003', 'book_004', 'book_005', 'book_006'])\n",
    "\n",
    "\n",
    "def construct_user_item_matrix(df):\n",
    "    user_item_matrix = np.zeros((user_count, book_count), dtype=np.int8)\n",
    "    for row in df.itertuples():\n",
    "        user_id = row[1]\n",
    "        book_id = row[2]\n",
    "        rating = row[3]\n",
    "        user_item_matrix[user_id_index_series[user_id], book_id_index_series[book_id]] = rating\n",
    "    return user_item_matrix\n",
    "\n",
    "user_book_matrix = construct_user_item_matrix(df)\n",
    "print ('user_item_matrix looks like：')\n",
    "print ('-----')\n",
    "print (user_book_matrix)"
   ]
  },
  {
   "cell_type": "markdown",
   "metadata": {},
   "source": [
    "## compute similarity_matrix"
   ]
  },
  {
   "cell_type": "code",
   "execution_count": 3,
   "metadata": {},
   "outputs": [
    {
     "name": "stdout",
     "output_type": "stream",
     "text": [
      "user_similarity_matrix:\n",
      "[[ 1.    0.75  0.63  0.22  0.3   0.  ]\n",
      " [ 0.75  1.    0.91  0.    0.    0.16]\n",
      " [ 0.63  0.91  1.    0.    0.    0.4 ]\n",
      " [ 0.22  0.    0.    1.    0.97  0.64]\n",
      " [ 0.3   0.    0.    0.97  1.    0.53]\n",
      " [ 0.    0.16  0.4   0.64  0.53  1.  ]]\n",
      "book_similarity_matrix:\n",
      "[[ 1.    0.27  0.79  0.32  0.98  0.  ]\n",
      " [ 0.27  1.    0.    0.    0.34  0.65]\n",
      " [ 0.79  0.    1.    0.69  0.71  0.18]\n",
      " [ 0.32  0.    0.69  1.    0.32  0.49]\n",
      " [ 0.98  0.34  0.71  0.32  1.    0.  ]\n",
      " [ 0.    0.65  0.18  0.49  0.    1.  ]]\n"
     ]
    }
   ],
   "source": [
    "def cosine_similarity(vec1, vec2):\n",
    "    return round(vec1.dot(vec2)/(np.linalg.norm(vec1)*np.linalg.norm(vec2)), 2)\n",
    "\n",
    "\n",
    "def construct_similarity_matrix(user_item_matrix, dim='user'):\n",
    "    if dim == 'user':\n",
    "        similarity_matrix = np.zeros((user_count, user_count))\n",
    "        count = user_count\n",
    "    else:\n",
    "        similarity_matrix = np.zeros((book_count, book_count))\n",
    "        count = book_count\n",
    "    get_vector = lambda i: user_item_matrix[i] if dim == 'user' else user_item_matrix[:,i]\n",
    "    for i in range(user_count):\n",
    "        i_vector = get_vector(i)\n",
    "        similarity_matrix[i][i] = cosine_similarity(i_vector, i_vector)\n",
    "        for j in range(i, count):\n",
    "            j_vector = get_vector(j)\n",
    "            similarity = cosine_similarity(i_vector, j_vector)\n",
    "            similarity_matrix[i][j] = similarity\n",
    "            similarity_matrix[j][i] = similarity\n",
    "    return similarity_matrix\n",
    "\n",
    "user_similarity_matrix = construct_similarity_matrix(user_book_matrix)\n",
    "book_similarity_matrix = construct_similarity_matrix(user_book_matrix, dim='book')\n",
    "print ('user_similarity_matrix:')\n",
    "print (user_similarity_matrix)\n",
    "print ('book_similarity_matrix:')\n",
    "print (book_similarity_matrix)"
   ]
  },
  {
   "cell_type": "markdown",
   "metadata": {},
   "source": [
    "## recommend similar users"
   ]
  },
  {
   "cell_type": "code",
   "execution_count": 4,
   "metadata": {},
   "outputs": [
    {
     "name": "stdout",
     "output_type": "stream",
     "text": [
      "recommend user_indexes [1 2 4] to user_001\n"
     ]
    }
   ],
   "source": [
    "def recommend_similar_users(user_id, n=3):\n",
    "    user_index = user_id_index_series[user_id]\n",
    "    similar_users_index = pd.Series(user_similarity_matrix[user_index]).drop(index=user_index).sort_values(ascending=False).index[:n]\n",
    "    return np.array(similar_users_index)\n",
    "\n",
    "print ('recommend user_indexes %s to user_001' % recommend_similar_users('user_001'))"
   ]
  },
  {
   "cell_type": "markdown",
   "metadata": {},
   "source": [
    "## recommend similar items"
   ]
  },
  {
   "cell_type": "code",
   "execution_count": 5,
   "metadata": {},
   "outputs": [
    {
     "name": "stdout",
     "output_type": "stream",
     "text": [
      "recommend item_indexes [4 2 3] to book_001\n"
     ]
    }
   ],
   "source": [
    "def recommend_similar_items(item_id, n=3):\n",
    "    item_index = book_id_index_series[item_id]\n",
    "    similar_item_index = pd.Series(book_similarity_matrix[item_index]).drop(index=item_index).sort_values(ascending=False).index[:n]\n",
    "    return np.array(similar_item_index)\n",
    "    \n",
    "print ('recommend item_indexes %s to book_001' % recommend_similar_items('book_001'))"
   ]
  },
  {
   "cell_type": "markdown",
   "metadata": {},
   "source": [
    "## item-based naive cf"
   ]
  },
  {
   "cell_type": "code",
   "execution_count": 6,
   "metadata": {},
   "outputs": [
    {
     "data": {
      "text/plain": [
       "2    4.47\n",
       "5    3.00\n",
       "dtype: float64"
      ]
     },
     "execution_count": 6,
     "metadata": {},
     "output_type": "execute_result"
    }
   ],
   "source": [
    "def recommend_item_to_user_ib(user_id):\n",
    "    user_index = user_id_index_series[user_id]\n",
    "    user_read_books = np.nonzero(user_book_matrix[user_index])[0]\n",
    "    book_set = set()\n",
    "    book_relation = dict()\n",
    "    for book in user_read_books:\n",
    "        relative_books = recommend_similar_items(book, 2)\n",
    "        book_set = book_set.union(relative_books)\n",
    "        book_relation[book] = relative_books\n",
    "    book_set = book_set.difference(user_read_books)\n",
    "    predict = pd.Series([0.0]*len(book_set), index=list(book_set))\n",
    "    for book in book_set:\n",
    "        fenzi = 0\n",
    "        fenmu = 0\n",
    "        for similar_book, relative_books in book_relation.items():\n",
    "            if book in relative_books:\n",
    "                fenzi += book_similarity_matrix[book][similar_book] * user_book_matrix[user_index][similar_book]\n",
    "                fenmu += book_similarity_matrix[book][similar_book]\n",
    "        predict[book] = round(fenzi/fenmu, 2)\n",
    "    return predict.sort_values(ascending=False)\n",
    "\n",
    "recommend_item_to_user_ib('user_001')"
   ]
  }
 ],
 "metadata": {
  "kernelspec": {
   "display_name": "Python 3",
   "language": "python",
   "name": "python3"
  },
  "language_info": {
   "codemirror_mode": {
    "name": "ipython",
    "version": 3
   },
   "file_extension": ".py",
   "mimetype": "text/x-python",
   "name": "python",
   "nbconvert_exporter": "python",
   "pygments_lexer": "ipython3",
   "version": "3.6.2"
  }
 },
 "nbformat": 4,
 "nbformat_minor": 2
}
