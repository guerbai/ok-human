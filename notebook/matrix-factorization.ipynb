{
 "cells": [
  {
   "cell_type": "markdown",
   "metadata": {},
   "source": [
    "## load data"
   ]
  },
  {
   "cell_type": "code",
   "execution_count": 1,
   "metadata": {},
   "outputs": [
    {
     "name": "stdout",
     "output_type": "stream",
     "text": [
      "user count  358868\n",
      "artist count  292365\n",
      "plays matrix memory usage: 133 MB.\n"
     ]
    }
   ],
   "source": [
    "import time\n",
    "import pandas as pd\n",
    "import numpy as np\n",
    "from scipy.sparse import csr_matrix, diags\n",
    "from scipy.sparse.linalg import spsolve\n",
    "\n",
    "df = pd.read_table(\"~/music-recommend/dataset/lastfm-dataset-360K/usersha1-artmbid-artname-plays.tsv\", \n",
    "                         usecols=[0, 2, 3], \n",
    "                         names=['user', 'artist', 'plays'],\n",
    "                         na_filter=False)\n",
    "\n",
    "df['user'] = df['user'].astype('category')\n",
    "df['artist'] = df['artist'].astype('category')\n",
    "\n",
    "plays = csr_matrix((df['plays'].astype(float), \n",
    "                   (df['user'].cat.codes, \n",
    "                    df['artist'].cat.codes)))\n",
    "\n",
    "print ('user count ', plays.shape[0])\n",
    "print ('artist count ', plays.shape[1])\n",
    "print ('plays matrix memory usage: %d MB.' % (plays.data.nbytes/1024/1024))\n",
    "\n",
    "def get_row_index_by_user(user):\n",
    "    for index, i in enumerate(df['user'].cat.categories):\n",
    "        if i == user:\n",
    "            return index\n",
    "    return None\n",
    "\n",
    "def get_col_index_by_artist(artist):\n",
    "    for index, i in enumerate(df['artist'].cat.categories):\n",
    "        if i == artist:\n",
    "            return index\n",
    "    return None\n",
    "    \n",
    "def get_sparse_matrix_item(i, j):\n",
    "    return plays.getrow(i).getcol(j).data[0]"
   ]
  },
  {
   "cell_type": "markdown",
   "metadata": {},
   "source": [
    "## check"
   ]
  },
  {
   "cell_type": "code",
   "execution_count": 2,
   "metadata": {},
   "outputs": [
    {
     "name": "stdout",
     "output_type": "stream",
     "text": [
      "00000c289a1829a808ac09c00daf10bc3c4e223b listened red hot chili peppers count:  691.0\n"
     ]
    }
   ],
   "source": [
    "user1_index = get_row_index_by_user('00000c289a1829a808ac09c00daf10bc3c4e223b')\n",
    "artist1_index = get_col_index_by_artist('red hot chili peppers')\n",
    "print ('00000c289a1829a808ac09c00daf10bc3c4e223b listened red hot chili peppers count: ', get_sparse_matrix_item(user1_index, artist1_index))"
   ]
  },
  {
   "cell_type": "markdown",
   "metadata": {},
   "source": [
    "## picture and formula"
   ]
  },
  {
   "cell_type": "markdown",
   "metadata": {},
   "source": [
    "![](https://ws1.sinaimg.cn/large/0073xHwmly1g0gm9z9a4wj31im0p2abk.jpg)\n",
    "\n",
    "loss function:\n",
    "$$\n",
    "\\min _ { x _ { * } , y _ {*} , } \\sum _ { u , i } c _ { u i } \\left( p _ { u i } - x _ { u } ^ { T } y _ { i } \\right) ^ { 2 } + \\lambda \\left( \\sum _ { u } \\left\\| x _ { u } \\right\\| ^ { 2 } + \\sum _ { i } \\left\\| y _ { i } \\right\\| ^ { 2 } \\right)\n",
    "$$\n",
    "\n",
    "confidence:\n",
    "$$\n",
    "c _ { u i } = 1 + \\alpha r _ { u i }\n",
    "$$\n",
    "\n",
    "ALS:\n",
    "$$\n",
    "x _ { u } = \\left( Y ^ { T } C ^ { u } Y + \\lambda I \\right) ^ { - 1 } Y ^ { T } C ^ { u } p ( u ) = Y ^ { T } Y + Y ^ { T } \\left( C ^ { u } - I \\right) Y\n",
    "$$\n"
   ]
  },
  {
   "cell_type": "markdown",
   "metadata": {},
   "source": [
    "## translate formula"
   ]
  },
  {
   "cell_type": "code",
   "execution_count": null,
   "metadata": {},
   "outputs": [],
   "source": [
    "def weighted_alternating_least_squares(plays, factors, alpha=40, regularization=0.1, iterations=20):\n",
    "    Cui = (plays * alpha).astype('double')\n",
    "    users, items = Cui.shape\n",
    "\n",
    "    X = np.random.rand(users, factors) * 0.01\n",
    "    Y = np.random.rand(items, factors) * 0.01\n",
    "\n",
    "    Ciu = Cui.T.tocsr()\n",
    "    for iteration in range(iterations):\n",
    "        least_squares(Cui, X, Y, regularization)\n",
    "        least_squares(Ciu, Y, X, regularization)\n",
    "\n",
    "    return X, Y\n",
    "\n",
    "def least_squares(Cui, X, Y, regularization):\n",
    "    users, factors = X.shape\n",
    "    for u in range(users):\n",
    "        conf = Cui[u,:].toarray() ；\n",
    "        pref = conf.copy()\n",
    "        conf = conf + 1\n",
    "        pref[pref != 0] = 1\n",
    "        Cu = diags(conf, [0])\n",
    "        A = Y.T.dot(Cu).dot(Y) + regularization * np.eye(factors)\n",
    "        b = Y.T.dot(Cu).dot(pref.T)\n",
    "        X[u] = spsolve(A, b)"
   ]
  },
  {
   "cell_type": "markdown",
   "metadata": {},
   "source": [
    "## implicit translate formula"
   ]
  },
  {
   "cell_type": "code",
   "execution_count": null,
   "metadata": {},
   "outputs": [],
   "source": [
    "def nonzeros(m, row):\n",
    "    for index in range(m.indptr[row], m.indptr[row+1]):\n",
    "        yield m.indices[index], m.data[index]\n",
    "\n",
    "def least_squares(Cui, X, Y, regularization):\n",
    "    users, factors = X.shape\n",
    "    YtY = Y.T.dot(Y)\n",
    "\n",
    "    for u in range(users):\n",
    "        if u % 10000 == 0 and u > 0:\n",
    "            print (u)\n",
    "        # accumulate YtCuY + regularization * I in A\n",
    "        A = YtY + regularization * np.eye(factors)\n",
    "\n",
    "        # accumulate YtCuPu in b\n",
    "        b = np.zeros(factors)\n",
    "\n",
    "        for i, confidence in nonzeros(Cui, u):\n",
    "            factor = Y[i]\n",
    "            A += (confidence - 1) * np.outer(factor, factor)\n",
    "            b += confidence * factor\n",
    "\n",
    "        # Xu = (YtCuY + regularization * I)^-1 (YtCuPu)\n",
    "        X[u] = np.linalg.solve(A, b)"
   ]
  },
  {
   "cell_type": "markdown",
   "metadata": {},
   "source": [
    "## use implicit"
   ]
  },
  {
   "cell_type": "code",
   "execution_count": 3,
   "metadata": {},
   "outputs": [
    {
     "name": "stderr",
     "output_type": "stream",
     "text": [
      "WARNING:root:Intel MKL BLAS detected. Its highly recommend to set the environment variable 'export MKL_NUM_THREADS=1' to disable its internal multithreading\n",
      "100%|██████████| 50.0/50 [04:22<00:00,  5.37s/it]\n"
     ]
    }
   ],
   "source": [
    "from implicit.nearest_neighbours import bm25_weight\n",
    "from implicit.als import AlternatingLeastSquares\n",
    "\n",
    "model = AlternatingLeastSquares(factors=50, regularization=0.01, iterations = 50)\n",
    "model.fit(bm25_weight(plays.T.tocsr()))\n",
    "\n",
    "user_factors = model.user_factors\n",
    "artist_factors = model.item_factors"
   ]
  },
  {
   "cell_type": "markdown",
   "metadata": {},
   "source": [
    "## annoy"
   ]
  },
  {
   "cell_type": "code",
   "execution_count": 4,
   "metadata": {},
   "outputs": [
    {
     "data": {
      "text/plain": [
       "True"
      ]
     },
     "execution_count": 4,
     "metadata": {},
     "output_type": "execute_result"
    }
   ],
   "source": [
    "from annoy import AnnoyIndex\n",
    "import random\n",
    "\n",
    "artist_nn_index = AnnoyIndex(50)\n",
    "for i in range(artist_factors.shape[0]):\n",
    "    artist_nn_index.add_item(i, artist_factors[i])\n",
    "\n",
    "artist_nn_index.build(25)"
   ]
  },
  {
   "cell_type": "code",
   "execution_count": 5,
   "metadata": {},
   "outputs": [
    {
     "name": "stdout",
     "output_type": "stream",
     "text": [
      "yes similar artists:\n",
      " ['yes', 'emerson, lake & palmer', 'genesis', 'rush', 'king crimson', 'jethro tull', 'the moody blues', 'gentle giant', 'camel', 'kansas', 'frank zappa', 'david gilmour', 'focus', 'jeff beck', 'roger waters', 'steely dan', 'marillion', 'van der graaf generator', 'led zeppelin', 'cream']\n",
      "----------\n",
      "the_clash similar artists:\n",
      " ['the clash', 'ramones', 'pixies', 'iggy pop', 'david bowie', 'the specials', 'the smiths', 'dead kennedys', 'the pogues', 'the white stripes', 'the beatles', 'lou reed', 'the velvet underground', 'the cure', 'johnny cash', 'violent femmes', 'joy division', 'the kinks', 'misfits', 'bob dylan']\n",
      "----------\n",
      "the_smiths similar artists:\n",
      " ['the smiths', 'morrissey', 'the cure', 'joy division', 'david bowie', 'new order', 'pixies', 'echo & the bunnymen', 'the clash', 'the jesus and mary chain', 'pulp', 'elliott smith', 'blur', 'blondie', 'r.e.m.', 'nick cave and the bad seeds', 'talking heads', 'cocteau twins', 'beck', 'manic street preachers']\n",
      "----------\n",
      "pink_floyd similar artists:\n",
      " ['pink floyd', 'led zeppelin', 'the doors', 'jimi hendrix', 'queen', 'the police', 'the beatles', 'the jimi hendrix experience', 'jefferson airplane', 'the who', 'creedence clearwater revival', 'deep purple', 'the rolling stones', 'nirvana', 'john lennon', 'pearl jam', 'radiohead', 'frank zappa', 'the cure', 'the alan parsons project']\n",
      "----------\n",
      "blur similar artists:\n",
      " ['blur', 'franz ferdinand', 'pixies', 'pulp', 'manic street preachers', 'supergrass', 'interpol', 'the white stripes', 'the verve', 'the dandy warhols', 'the coral', 'beck', 'the strokes', 'kasabian', 'the cure', 'primal scream', 'david bowie', 'the smiths', 'kaiser chiefs', 'new order']\n"
     ]
    }
   ],
   "source": [
    "def get_similar_artists(artist, n = 20):\n",
    "    similar_artist_list = list()\n",
    "    for i in artist_nn_index.get_nns_by_item(artist, n):\n",
    "        similar_artist_list.append(df['artist'].cat.categories[i])\n",
    "    return similar_artist_list\n",
    "\n",
    "yes = get_col_index_by_artist('yes')\n",
    "the_clash = get_col_index_by_artist('the clash')\n",
    "the_smiths = get_col_index_by_artist('the smiths')\n",
    "pink_floyd = get_col_index_by_artist('pink floyd')\n",
    "blur = get_col_index_by_artist('blur')\n",
    "\n",
    "print ('yes similar artists:\\n', get_similar_artists(yes))\n",
    "print ('----------')\n",
    "print ('the_clash similar artists:\\n', get_similar_artists(the_clash))\n",
    "print ('----------')\n",
    "print ('the_smiths similar artists:\\n', get_similar_artists(the_smiths))\n",
    "print ('----------')\n",
    "print ('pink_floyd similar artists:\\n', get_similar_artists(pink_floyd))\n",
    "print ('----------')\n",
    "print ('blur similar artists:\\n', get_similar_artists(blur))"
   ]
  }
 ],
 "metadata": {
  "kernelspec": {
   "display_name": "Python 3",
   "language": "python",
   "name": "python3"
  },
  "language_info": {
   "codemirror_mode": {
    "name": "ipython",
    "version": 3
   },
   "file_extension": ".py",
   "mimetype": "text/x-python",
   "name": "python",
   "nbconvert_exporter": "python",
   "pygments_lexer": "ipython3",
   "version": "3.6.2"
  }
 },
 "nbformat": 4,
 "nbformat_minor": 2
}
